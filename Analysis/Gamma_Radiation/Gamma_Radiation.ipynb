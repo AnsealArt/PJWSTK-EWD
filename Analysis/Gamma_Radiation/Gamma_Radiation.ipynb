{
 "cells": [
  {
   "cell_type": "markdown",
   "metadata": {},
   "source": [
    "### Import packages"
   ]
  },
  {
   "cell_type": "code",
   "execution_count": 1,
   "metadata": {},
   "outputs": [],
   "source": [
    "import os\n",
    "import glob\n",
    "import re\n",
    "import pandas as pd\n",
    "import numpy as np\n",
    "import matplotlib.pyplot as plt\n",
    "\n"
   ]
  },
  {
   "cell_type": "markdown",
   "metadata": {},
   "source": [
    "### Global variables"
   ]
  },
  {
   "cell_type": "code",
   "execution_count": 2,
   "metadata": {},
   "outputs": [],
   "source": [
    "RAW_DATA_PATH = \"../../Data/Gamma_Radiation_Set/Raw/\"\n",
    "CLEAN_DATA_FILE = \"../../Data/Gamma_Radiation_Set/Clean/Gamma_Radiation_Data.csv\"\n",
    "\n",
    "RAW_DATA_ENCODING = \"-1250\"\n",
    "RAD_DATA_SEP = \";\""
   ]
  },
  {
   "cell_type": "markdown",
   "metadata": {},
   "source": [
    "### Get data"
   ]
  },
  {
   "cell_type": "code",
   "execution_count": 3,
   "metadata": {},
   "outputs": [
    {
     "name": "stdout",
     "output_type": "stream",
     "text": [
      "Reading file: ../../Data/Gamma_Radiation_Set/Raw\\Rozkład_mocy_dawki_promieniowania_gamma_06.09.22-20.09.22_4e4R7q7.csv\n",
      "['06.09.22-20.09.22']\n",
      "Reading file: ../../Data/Gamma_Radiation_Set/Raw\\Rozkład_mocy_dawki_promieniowania_gamma_09.08.22-23.08.22.csv\n",
      "['09.08.22-23.08.22']\n",
      "Reading file: ../../Data/Gamma_Radiation_Set/Raw\\Rozkład_mocy_dawki_promieniowania_gamma_1.06.22-14.06.22_Ut7Ba7g.csv\n",
      "['1.06.22-14.06.22']\n",
      "Reading file: ../../Data/Gamma_Radiation_Set/Raw\\Rozkład_mocy_dawki_promieniowania_gamma_12.07.22-26.07.22.csv\n",
      "['12.07.22-26.07.22']\n",
      "Reading file: ../../Data/Gamma_Radiation_Set/Raw\\Rozkład_mocy_dawki_promieniowania_gamma_14.06.22-28.06.22_DH9trpj.csv\n",
      "['14.06.22-28.06.22']\n",
      "Reading file: ../../Data/Gamma_Radiation_Set/Raw\\Rozkład_mocy_dawki_promieniowania_gamma_23.08.22-06.09.22.csv\n",
      "['23.08.22-06.09.22']\n",
      "Reading file: ../../Data/Gamma_Radiation_Set/Raw\\Rozkład_mocy_dawki_promieniowania_gamma_26.07.22-09.08.22.csv\n",
      "['26.07.22-09.08.22']\n",
      "Reading file: ../../Data/Gamma_Radiation_Set/Raw\\Rozkład_mocy_dawki_promieniowania_gamma_28.06.22-12.07.22.csv\n",
      "['28.06.22-12.07.22']\n",
      "\n",
      "Sample data:\n",
      "     Stacje Miejscowość (lokalizacja)  \\\n",
      "237    PMS                      Łódź   \n",
      "256    PMS              Zielona Góra   \n",
      "300    PMS           Wólka Dobryńska   \n",
      "180    PMS             Bielsko-Biała   \n",
      "320    PMS                    Kalisz   \n",
      "\n",
      "    Zakres średniej dziennej mocy dawki [nSv/h] Średnia [nSv/h]  \\\n",
      "237                                       86-93              89   \n",
      "256                                       86-95              88   \n",
      "300                                       63-75              65   \n",
      "180                                       88-99              92   \n",
      "320                                       64-70              66   \n",
      "\n",
      "                  Daty  \n",
      "237  23.08.22-06.09.22  \n",
      "256  23.08.22-06.09.22  \n",
      "300  26.07.22-09.08.22  \n",
      "180  14.06.22-28.06.22  \n",
      "320  28.06.22-12.07.22  \n",
      "\n",
      "Value counts:\n",
      " Stacje  Miejscowość (lokalizacja)  Zakres średniej dziennej mocy dawki [nSv/h]  Średnia [nSv/h]  Daty             \n",
      "IMiGW   Gdynia                     0-119                                        82               06.09.22-20.09.22    1\n",
      "PMS     Olsztyn                    57-63                                        59               06.09.22-20.09.22    1\n",
      "        Rzeszów                    91-96                                        93               1.06.22-14.06.22     1\n",
      "                                   89-102                                       95               06.09.22-20.09.22    1\n",
      "                                   89-101                                       92               26.07.22-09.08.22    1\n",
      "                                                                                                                     ..\n",
      "        Czerniczyn                 85-98                                        88               09.08.22-23.08.22    1\n",
      "                                   85-95                                        91               28.06.22-12.07.22    1\n",
      "                                                                                89               1.06.22-14.06.22     1\n",
      "                                   84-98                                        88               26.07.22-09.08.22    1\n",
      "        Łódź                       88-96                                        91               06.09.22-20.09.22    1\n",
      "Length: 357, dtype: int64\n"
     ]
    }
   ],
   "source": [
    "df_full = pd.DataFrame(columns=[\"Stacje\", \"Miejscowość (lokalizacja)\", \"Zakres średniej dziennej mocy dawki [nSv/h]\", \"Średnia [nSv/h]\", \"Daty\"])\n",
    "\n",
    "raw_data_path = '../../Data/Gamma_Radiation_Set/Raw/'\n",
    "csv_files = glob.glob(os.path.join(RAW_DATA_PATH, \"*.csv\"))\n",
    "\n",
    "for data in csv_files:\n",
    "  print(\"Reading file:\", data)\n",
    "  df_csv = pd.read_csv(data, encoding=RAW_DATA_ENCODING, sep=RAD_DATA_SEP)\n",
    "  \n",
    "  dates_from_filename = re.findall(\"\\d{1,2}.\\d{2}.\\d{2}-\\d{2}.\\d{2}.\\d{2}\", data)\n",
    "  print(dates_from_filename)\n",
    "  df_csv[\"Daty\"] = ''.join(dates_from_filename)\n",
    "\n",
    "  df_full = pd.concat([df_full, df_csv], ignore_index=True)\n",
    "\n",
    "print(\"\\nSample data:\\n\", df_full.sample(5))\n",
    "print(\"\\nValue counts:\\n\", df_full.value_counts())"
   ]
  },
  {
   "cell_type": "code",
   "execution_count": 4,
   "metadata": {},
   "outputs": [],
   "source": [
    "df_full.to_csv(CLEAN_DATA_FILE, index=False)"
   ]
  },
  {
   "cell_type": "markdown",
   "metadata": {},
   "source": [
    "### Get clean data"
   ]
  },
  {
   "cell_type": "code",
   "execution_count": 5,
   "metadata": {},
   "outputs": [],
   "source": [
    "df_clean = pd.read_csv(CLEAN_DATA_FILE)"
   ]
  },
  {
   "cell_type": "markdown",
   "metadata": {},
   "source": []
  },
  {
   "cell_type": "markdown",
   "metadata": {},
   "source": [
    "### Clean data EDA"
   ]
  },
  {
   "cell_type": "code",
   "execution_count": 6,
   "metadata": {},
   "outputs": [
    {
     "name": "stdout",
     "output_type": "stream",
     "text": [
      "Clean data has 357 rows and 5 columns\n",
      "Column Stacje has 0 missing values\n",
      "Column Miejscowość (lokalizacja) has 0 missing values\n",
      "Column Zakres średniej dziennej mocy dawki [nSv/h] has 0 missing values\n",
      "Column Średnia [nSv/h] has 0 missing values\n",
      "Column Daty has 0 missing values\n"
     ]
    }
   ],
   "source": [
    "print(\"Clean data has\", df_clean.shape[0], \"rows and\", df_clean.shape[1], \"columns\")\n",
    "for col in df_clean.columns:\n",
    "    print(\"Column\", col, \"has\", df_clean[col].isna().sum(), \"missing values\")"
   ]
  },
  {
   "cell_type": "code",
   "execution_count": 7,
   "metadata": {},
   "outputs": [
    {
     "name": "stdout",
     "output_type": "stream",
     "text": [
      "Unique Stations values: ['PMS' 'IMiGW']\n",
      "Number of localizations:\n",
      " Włodawa     16\n",
      "Gdynia      16\n",
      "Legnica     16\n",
      "Warszawa    15\n",
      "Babiki       8\n",
      "Name: Miejscowość (lokalizacja), dtype: int64\n",
      "Highest averages:\n",
      "                                             Stacje  \\\n",
      "Miejscowość (lokalizacja) Daty                       \n",
      "Babiki                    06.09.22-20.09.22    PMS   \n",
      "                          09.08.22-23.08.22    PMS   \n",
      "                          1.06.22-14.06.22     PMS   \n",
      "                          12.07.22-26.07.22    PMS   \n",
      "                          14.06.22-28.06.22    PMS   \n",
      "...                                            ...   \n",
      "Świnoujście               12.07.22-26.07.22  IMiGW   \n",
      "                          14.06.22-28.06.22  IMiGW   \n",
      "                          23.08.22-06.09.22  IMiGW   \n",
      "                          26.07.22-09.08.22  IMiGW   \n",
      "                          28.06.22-12.07.22  IMiGW   \n",
      "\n",
      "                                            Zakres średniej dziennej mocy dawki [nSv/h]  \\\n",
      "Miejscowość (lokalizacja) Daty                                                            \n",
      "Babiki                    06.09.22-20.09.22                                      84-108   \n",
      "                          09.08.22-23.08.22                                       80-87   \n",
      "                          1.06.22-14.06.22                                        78-95   \n",
      "                          12.07.22-26.07.22                                       79-98   \n",
      "                          14.06.22-28.06.22                                       79-86   \n",
      "...                                                                                 ...   \n",
      "Świnoujście               12.07.22-26.07.22                                       65-72   \n",
      "                          14.06.22-28.06.22                                       63-68   \n",
      "                          23.08.22-06.09.22                                       67-70   \n",
      "                          26.07.22-09.08.22                                       66-69   \n",
      "                          28.06.22-12.07.22                                       63-69   \n",
      "\n",
      "                                             Średnia [nSv/h]  \n",
      "Miejscowość (lokalizacja) Daty                                \n",
      "Babiki                    06.09.22-20.09.22               87  \n",
      "                          09.08.22-23.08.22               84  \n",
      "                          1.06.22-14.06.22                82  \n",
      "                          12.07.22-26.07.22               82  \n",
      "                          14.06.22-28.06.22               81  \n",
      "...                                                      ...  \n",
      "Świnoujście               12.07.22-26.07.22               67  \n",
      "                          14.06.22-28.06.22               65  \n",
      "                          23.08.22-06.09.22               68  \n",
      "                          26.07.22-09.08.22               68  \n",
      "                          28.06.22-12.07.22               64  \n",
      "\n",
      "[326 rows x 3 columns]\n",
      "Warsaw has     Stacje Miejscowość (lokalizacja)  \\\n",
      "30     PMS                  Warszawa   \n",
      "41   IMiGW                  Warszawa   \n",
      "76     PMS                  Warszawa   \n",
      "87   IMiGW                  Warszawa   \n",
      "119    PMS                  Warszawa   \n",
      "130  IMiGW                  Warszawa   \n",
      "174  IMiGW                  Warszawa   \n",
      "206    PMS                  Warszawa   \n",
      "217  IMiGW                  Warszawa   \n",
      "252    PMS                  Warszawa   \n",
      "263  IMiGW                  Warszawa   \n",
      "298    PMS                  Warszawa   \n",
      "309  IMiGW                  Warszawa   \n",
      "343    PMS                  Warszawa   \n",
      "354  IMiGW                  Warszawa   \n",
      "\n",
      "    Zakres średniej dziennej mocy dawki [nSv/h]  Średnia [nSv/h]  \\\n",
      "30                                        89-96               91   \n",
      "41                                        68-78               69   \n",
      "76                                        87-91               90   \n",
      "87                                        65-69               67   \n",
      "119                                       87-92               90   \n",
      "130                                       63-67               65   \n",
      "174                                       65-88               69   \n",
      "206                                       87-94               89   \n",
      "217                                       63-69               65   \n",
      "252                                       88-92               90   \n",
      "263                                       67-71               68   \n",
      "298                                       86-93               89   \n",
      "309                                       58-81               66   \n",
      "343                                       81-94               92   \n",
      "354                                       62-73               66   \n",
      "\n",
      "                  Daty  \n",
      "30   06.09.22-20.09.22  \n",
      "41   06.09.22-20.09.22  \n",
      "76   09.08.22-23.08.22  \n",
      "87   09.08.22-23.08.22  \n",
      "119   1.06.22-14.06.22  \n",
      "130   1.06.22-14.06.22  \n",
      "174  12.07.22-26.07.22  \n",
      "206  14.06.22-28.06.22  \n",
      "217  14.06.22-28.06.22  \n",
      "252  23.08.22-06.09.22  \n",
      "263  23.08.22-06.09.22  \n",
      "298  26.07.22-09.08.22  \n",
      "309  26.07.22-09.08.22  \n",
      "343  28.06.22-12.07.22  \n",
      "354  28.06.22-12.07.22   and Lublin has     Stacje Miejscowość (lokalizacja)  \\\n",
      "17     PMS                    Lublin   \n",
      "62     PMS                    Lublin   \n",
      "106    PMS                    Lublin   \n",
      "150    PMS                    Lublin   \n",
      "193    PMS                    Lublin   \n",
      "238    PMS                    Lublin   \n",
      "284    PMS                    Lublin   \n",
      "329    PMS                    Lublin   \n",
      "\n",
      "    Zakres średniej dziennej mocy dawki [nSv/h]  Średnia [nSv/h]  \\\n",
      "17                                      101-112              104   \n",
      "62                                      100-108              102   \n",
      "106                                      99-102              100   \n",
      "150                                      99-103              100   \n",
      "193                                      99-102              100   \n",
      "238                                     100-103              101   \n",
      "284                                     100-107              102   \n",
      "329                                      99-105              102   \n",
      "\n",
      "                  Daty  \n",
      "17   06.09.22-20.09.22  \n",
      "62   09.08.22-23.08.22  \n",
      "106   1.06.22-14.06.22  \n",
      "150  12.07.22-26.07.22  \n",
      "193  14.06.22-28.06.22  \n",
      "238  23.08.22-06.09.22  \n",
      "284  26.07.22-09.08.22  \n",
      "329  28.06.22-12.07.22  \n",
      "City with most measures is                            Stacje  \\\n",
      "Miejscowość (lokalizacja)           \n",
      "Babiki                          8   \n",
      "\n",
      "                           Zakres średniej dziennej mocy dawki [nSv/h]  \\\n",
      "Miejscowość (lokalizacja)                                                \n",
      "Babiki                                                               8   \n",
      "\n",
      "                           Średnia [nSv/h]  Daty  \n",
      "Miejscowość (lokalizacja)                         \n",
      "Babiki                                   8     8  \n"
     ]
    }
   ],
   "source": [
    "# Get unique Stations values \n",
    "df_stations = df_clean[\"Stacje\"].unique()\n",
    "print(\"Unique Stations values:\", df_stations)\n",
    "\n",
    "# How much localizations are there?\n",
    "df_localization_values = df_clean[\"Miejscowość (lokalizacja)\"].value_counts()\n",
    "print(\"Number of localizations:\\n\", df_localization_values.head(5))\n",
    "\n",
    "# Where and when average values are the highest?\n",
    "df_grouping = df_clean.groupby(['Miejscowość (lokalizacja)', \"Daty\"]).max()\n",
    "print(\"Highest averages:\\n\", df_grouping)\n",
    "\n",
    "# What are the average values for Warsaw and Lublin?\n",
    "df_averages_warsaw = df_clean.loc[df_clean['Miejscowość (lokalizacja)'] == \"Warszawa\"]\n",
    "df_averages_lublin = df_clean.loc[df_clean['Miejscowość (lokalizacja)'] == \"Lublin\"]\n",
    "print(\"Warsaw has\", df_averages_warsaw, \"and Lublin has\", df_averages_lublin)\n",
    "\n",
    "# Which city has the most measures?\n",
    "df_most_measures = df_clean.groupby(\"Miejscowość (lokalizacja)\").count().head(1)\n",
    "print(\"City with most measures is\", df_most_measures)"
   ]
  },
  {
   "cell_type": "markdown",
   "metadata": {},
   "source": [
    "### Plots"
   ]
  },
  {
   "cell_type": "code",
   "execution_count": 10,
   "metadata": {},
   "outputs": [
    {
     "data": {
      "image/png": "[encoded data removed]",
      "text/plain": [
       "<Figure size 640x480 with 1 Axes>"
      ]
     },
     "metadata": {},
     "output_type": "display_data"
    }
   ],
   "source": [
    "df_averages_warsaw_analysis = df_averages_warsaw[['Średnia [nSv/h]', 'Daty']]\n",
    "df_averages_warsaw_analysis = df_averages_lublin[['Średnia [nSv/h]', 'Daty']]\n",
    "\n",
    "ax = df_averages_warsaw.plot(\n",
    "    label=\"Warsaw\"\n",
    ")\n",
    "df_averages_lublin.plot(\n",
    "    ax=ax,\n",
    "    label=\"Lublin\", \n",
    "    ylabel='Average [nSv/h] (nanosivert)')\n",
    "\n",
    "ax.set_title('Average Gamma Radiation values for Warsaw and Lublin\\n')\n",
    "ax.legend(title='City')\n",
    "plt.legend(loc=\"upper right\")\n",
    "\n",
    "plt.show()"
   ]
  },
  {
   "cell_type": "code",
   "execution_count": null,
   "metadata": {},
   "outputs": [],
   "source": []
  }
 ],
 "metadata": {
  "kernelspec": {
   "display_name": "Python 3.9.13 64-bit (windows store)",
   "language": "python",
   "name": "python3"
  },
  "language_info": {
   "codemirror_mode": {
    "name": "ipython",
    "version": 3
   },
   "file_extension": ".py",
   "mimetype": "text/x-python",
   "name": "python",
   "nbconvert_exporter": "python",
   "pygments_lexer": "ipython3",
   "version": "3.9.13"
  },
  "orig_nbformat": 4,
  "vscode": {
   "interpreter": {
    "hash": "ef23963b9c8a28849b46bf5563c2fdaa44d25a889790fa2910bcf6428dd9ddc3"
   }
  }
 },
 "nbformat": 4,
 "nbformat_minor": 2
}
